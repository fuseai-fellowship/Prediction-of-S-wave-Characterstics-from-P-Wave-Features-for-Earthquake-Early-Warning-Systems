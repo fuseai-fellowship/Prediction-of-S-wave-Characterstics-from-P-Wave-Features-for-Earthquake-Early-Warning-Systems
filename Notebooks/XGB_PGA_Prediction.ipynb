{
  "nbformat": 4,
  "nbformat_minor": 0,
  "metadata": {
    "colab": {
      "provenance": [],
      "gpuType": "T4"
    },
    "kernelspec": {
      "name": "python3",
      "display_name": "Python 3"
    },
    "language_info": {
      "name": "python"
    },
    "accelerator": "GPU"
  },
  "cells": [
    {
      "cell_type": "markdown",
      "source": [
        "# SETUP ENVIRONMENT (Collab GPU / Dependencies)"
      ],
      "metadata": {
        "id": "TwJYf1eem8oq"
      }
    },
    {
      "cell_type": "code",
      "source": [
        "!nvidia-smi\n",
        "!pip install --quiet optuna torch torchvision torchaudio scikit-learn matplotlib pandas numpy gdown\n",
        "\n",
        "import os, random, numpy as np, pandas as pd, matplotlib.pyplot as plt\n",
        "from copy import deepcopy\n",
        "import seaborn as sns\n",
        "import matplotlib.pyplot as plt\n",
        "import pandas as pd\n",
        "import numpy as np\n",
        "\n",
        "from sklearn.model_selection import StratifiedShuffleSplit, StratifiedKFold\n",
        "from sklearn.preprocessing import RobustScaler\n",
        "from sklearn.feature_selection import SelectKBest, f_regression\n",
        "from sklearn.impute import SimpleImputer\n",
        "from sklearn.metrics import r2_score, mean_squared_error, mean_absolute_error\n",
        "from sklearn.base import BaseEstimator, RegressorMixin\n",
        "\n",
        "import torch, torch.nn as nn, torch.optim as optim\n",
        "import xgboost as xgb\n",
        "import optuna\n",
        "import warnings\n",
        "warnings.filterwarnings(\"ignore\")"
      ],
      "metadata": {
        "id": "W0eofy1gnGVP",
        "colab": {
          "base_uri": "https://localhost:8080/"
        },
        "outputId": "1861bcd2-972a-40c5-df0d-036f4983ef65"
      },
      "execution_count": 1,
      "outputs": [
        {
          "output_type": "stream",
          "name": "stdout",
          "text": [
            "Tue Oct 21 15:50:25 2025       \n",
            "+-----------------------------------------------------------------------------------------+\n",
            "| NVIDIA-SMI 550.54.15              Driver Version: 550.54.15      CUDA Version: 12.4     |\n",
            "|-----------------------------------------+------------------------+----------------------+\n",
            "| GPU  Name                 Persistence-M | Bus-Id          Disp.A | Volatile Uncorr. ECC |\n",
            "| Fan  Temp   Perf          Pwr:Usage/Cap |           Memory-Usage | GPU-Util  Compute M. |\n",
            "|                                         |                        |               MIG M. |\n",
            "|=========================================+========================+======================|\n",
            "|   0  Tesla T4                       Off |   00000000:00:04.0 Off |                    0 |\n",
            "| N/A   45C    P8             12W /   70W |       0MiB /  15360MiB |      0%      Default |\n",
            "|                                         |                        |                  N/A |\n",
            "+-----------------------------------------+------------------------+----------------------+\n",
            "                                                                                         \n",
            "+-----------------------------------------------------------------------------------------+\n",
            "| Processes:                                                                              |\n",
            "|  GPU   GI   CI        PID   Type   Process name                              GPU Memory |\n",
            "|        ID   ID                                                               Usage      |\n",
            "|=========================================================================================|\n",
            "|  No running processes found                                                             |\n",
            "+-----------------------------------------------------------------------------------------+\n",
            "\u001b[2K   \u001b[90m━━━━━━━━━━━━━━━━━━━━━━━━━━━━━━━━━━━━━━━━\u001b[0m \u001b[32m400.9/400.9 kB\u001b[0m \u001b[31m8.6 MB/s\u001b[0m eta \u001b[36m0:00:00\u001b[0m\n",
            "\u001b[?25h"
          ]
        }
      ]
    },
    {
      "cell_type": "markdown",
      "source": [
        "# SEED"
      ],
      "metadata": {
        "id": "S4r5MrLrnTQp"
      }
    },
    {
      "cell_type": "code",
      "source": [
        "def set_seed(seed=42):\n",
        "    random.seed(seed)\n",
        "    np.random.seed(seed)\n",
        "    torch.manual_seed(seed)\n",
        "    torch.cuda.manual_seed_all(seed)\n",
        "    os.environ['PYTHONHASHSEED'] = str(seed)\n",
        "    torch.backends.cudnn.deterministic = True\n",
        "    torch.backends.cudnn.benchmark = False\n",
        "\n",
        "set_seed(4)\n",
        "device = torch.device('cuda' if torch.cuda.is_available() else 'cpu')\n",
        "print(f\"✅ Using device: {device} ({torch.cuda.get_device_name(0) if torch.cuda.is_available() else 'CPU'})\")"
      ],
      "metadata": {
        "id": "GYGlrMJYns-q",
        "colab": {
          "base_uri": "https://localhost:8080/"
        },
        "outputId": "4535a5a8-d116-4175-b3f9-04c3410d7c08"
      },
      "execution_count": 2,
      "outputs": [
        {
          "output_type": "stream",
          "name": "stdout",
          "text": [
            "✅ Using device: cuda (Tesla T4)\n"
          ]
        }
      ]
    },
    {
      "cell_type": "markdown",
      "source": [
        "# DATA LOADING"
      ],
      "metadata": {
        "id": "at96xbHBnwhp"
      }
    },
    {
      "cell_type": "code",
      "source": [
        "from google.colab import drive\n",
        "drive.mount('/content/drive')\n",
        "\n",
        "file_id = \"1a8XaGByqoz9xmpsFylUf7HXXAfOx8Aj2\"\n",
        "url = f\"https://drive.google.com/uc?id={file_id}\"\n",
        "output = \"EEW_features_2024-10-21.csv\"\n",
        "import gdown\n",
        "gdown.download(url, output, quiet=False)\n",
        "\n",
        "df = pd.read_csv(output, skiprows=[1])\n",
        "df.columns = df.columns.str.strip()\n",
        "\n",
        "for col in df.columns:\n",
        "    if col not in ['filename', 'date', 'time']:\n",
        "        df[col] = pd.to_numeric(df[col], errors='coerce')\n",
        "\n",
        "df = df.fillna(df.median(numeric_only=True))\n",
        "\n",
        "p_wave_features = ['pkev12', 'pkev23', 'durP', 'tauPd', 'tauPt',\n",
        "                   'PDd', 'PVd', 'PAd', 'PDt', 'PVt', 'PAt',\n",
        "                   'ddt_PDd', 'ddt_PVd', 'ddt_PAd', 'ddt_PDt', 'ddt_PVt', 'ddt_PAt']\n",
        "\n",
        "df = df[(df[p_wave_features] > 0).all(axis=1)]\n",
        "\n",
        "X = df[p_wave_features]\n",
        "y_raw = df['PGA']\n",
        "X = np.log1p(X)\n",
        "y_log = np.log1p(y_raw)"
      ],
      "metadata": {
        "id": "DAIwqaShn2Vs",
        "colab": {
          "base_uri": "https://localhost:8080/"
        },
        "outputId": "2cdf5561-97e2-4121-d2c9-3446d1337a55"
      },
      "execution_count": 3,
      "outputs": [
        {
          "output_type": "stream",
          "name": "stdout",
          "text": [
            "Mounted at /content/drive\n"
          ]
        },
        {
          "output_type": "stream",
          "name": "stderr",
          "text": [
            "Downloading...\n",
            "From: https://drive.google.com/uc?id=1a8XaGByqoz9xmpsFylUf7HXXAfOx8Aj2\n",
            "To: /content/EEW_features_2024-10-21.csv\n",
            "100%|██████████| 6.82M/6.82M [00:00<00:00, 30.8MB/s]\n"
          ]
        }
      ]
    },
    {
      "cell_type": "markdown",
      "source": [
        "# STRATIFIED SPLITTING\n",
        "  To Preserve Distribution"
      ],
      "metadata": {
        "id": "TX3acbwgn7Vc"
      }
    },
    {
      "cell_type": "code",
      "source": [
        "y_bins = pd.qcut(y_log, q=10, labels=False, duplicates='drop')\n",
        "sss1 = StratifiedShuffleSplit(n_splits=1, train_size=0.8, random_state=42)\n",
        "train_idx, temp_idx = next(sss1.split(X, y_bins))\n",
        "sss2 = StratifiedShuffleSplit(n_splits=1, train_size=0.5, random_state=42)\n",
        "val_idx, test_idx = next(sss2.split(X.iloc[temp_idx], y_bins.iloc[temp_idx]))\n",
        "val_idx, test_idx = temp_idx[val_idx], temp_idx[test_idx]\n",
        "\n",
        "X_train, X_val, X_test = X.iloc[train_idx], X.iloc[val_idx], X.iloc[test_idx]\n",
        "y_train_log, y_val_log, y_test_log = y_log.iloc[train_idx], y_log.iloc[val_idx], y_log.iloc[test_idx]\n",
        "y_train_raw, y_val_raw, y_test_raw = y_raw.iloc[train_idx], y_raw.iloc[val_idx], y_raw.iloc[test_idx]"
      ],
      "metadata": {
        "id": "tAroW_66oE__"
      },
      "execution_count": 4,
      "outputs": []
    },
    {
      "cell_type": "code",
      "source": [
        "plot_df = pd.DataFrame({\n",
        "    'Target (Log)': pd.concat([y_train_log, y_val_log, y_test_log], axis=0),\n",
        "    'Set': ['Train']*len(y_train_log) + ['Validation']*len(y_val_log) + ['Test']*len(y_test_log)\n",
        "})\n",
        "\n",
        "plt.figure(figsize=(5,3))\n",
        "sns.histplot(data=plot_df, x='Target (Log)', hue='Set', element='step', stat='density', common_norm=False, bins=30)\n",
        "plt.title('Distribution of log-transformed Target across Train, Validation, and Test sets')\n",
        "plt.xlabel('log(Target)')\n",
        "plt.ylabel('Density')\n",
        "plt.show()"
      ],
      "metadata": {
        "colab": {
          "base_uri": "https://localhost:8080/",
          "height": 333
        },
        "id": "i4RU5q45srpD",
        "outputId": "a88505ec-0334-474c-fb0c-9c5bb1f8ef4e"
      },
      "execution_count": 5,
      "outputs": [
        {
          "output_type": "display_data",
          "data": {
            "text/plain": [
              "<Figure size 500x300 with 1 Axes>"
            ],
            "image/png": "[encoded data removed]"
          },
          "metadata": {}
        }
      ]
    },
    {
      "cell_type": "markdown",
      "source": [
        "# EVALUATION METRICES"
      ],
      "metadata": {
        "id": "k31T-rSXoNN7"
      }
    },
    {
      "cell_type": "code",
      "source": [
        "def evaluate(model, X, y_log, y_raw):\n",
        "    preds_log = model.predict(X)\n",
        "    preds_raw = np.expm1(preds_log)\n",
        "\n",
        "    metrics_log = {\n",
        "        'R2': r2_score(y_log, preds_log),\n",
        "        'MAE': mean_absolute_error(y_log, preds_log),\n",
        "        'RMSE': np.sqrt(mean_squared_error(y_log, preds_log))\n",
        "    }\n",
        "\n",
        "    metrics_raw = {\n",
        "        'R2': r2_score(y_raw, preds_raw),\n",
        "        'MAE': mean_absolute_error(y_raw, preds_raw),\n",
        "        'RMSE': np.sqrt(mean_squared_error(y_raw, preds_raw))\n",
        "    }\n",
        "\n",
        "    return metrics_log, metrics_raw"
      ],
      "metadata": {
        "id": "__I25o5ToIqk"
      },
      "execution_count": 6,
      "outputs": []
    },
    {
      "cell_type": "code",
      "source": [
        "scaler = RobustScaler().fit(X_train)\n",
        "imputer = SimpleImputer(strategy='mean').fit(X_train)\n",
        "selector = SelectKBest(score_func=f_regression, k='all').fit(X_train, y_train_log)\n",
        "\n",
        "X_train_sel = selector.transform(imputer.transform(scaler.transform(X_train)))\n",
        "X_val_sel = selector.transform(imputer.transform(scaler.transform(X_val)))\n",
        "X_test_sel = selector.transform(imputer.transform(scaler.transform(X_test)))"
      ],
      "metadata": {
        "id": "eICJYYMEejsE"
      },
      "execution_count": 12,
      "outputs": []
    },
    {
      "cell_type": "markdown",
      "source": [
        "# XGBOOST MODEL"
      ],
      "metadata": {
        "id": "NUX1yjppdDpx"
      }
    },
    {
      "cell_type": "code",
      "source": [
        "def objective(trial):\n",
        "    n_estimators = trial.suggest_int('n_estimators', 100, 1000)\n",
        "    learning_rate = trial.suggest_float('learning_rate', 1e-3, 0.1, log=True)\n",
        "    max_depth = trial.suggest_int('max_depth', 3, 10)\n",
        "    subsample = trial.suggest_float('subsample', 0.6, 1.0)\n",
        "    colsample_bytree = trial.suggest_float('colsample_bytree', 0.6, 1.0)\n",
        "\n",
        "    y_bins_cv = pd.qcut(y_train_log, q=10, labels=False, duplicates='drop')\n",
        "    skf = StratifiedKFold(n_splits=3, shuffle=True, random_state=42)\n",
        "    mae_scores = []\n",
        "\n",
        "    for tr_idx, val_idx in skf.split(X_train, y_bins_cv):\n",
        "        X_tr, X_val_split = X_train.iloc[tr_idx], X_train.iloc[val_idx]\n",
        "        y_tr, y_val_split = y_train_log.iloc[tr_idx], y_train_log.iloc[val_idx]\n",
        "\n",
        "        scaler = RobustScaler()\n",
        "        imputer = SimpleImputer(strategy='mean')\n",
        "        selector = SelectKBest(score_func=f_regression, k='all')\n",
        "\n",
        "        X_tr_prep = selector.fit_transform(imputer.fit_transform(scaler.fit_transform(X_tr)), y_tr)\n",
        "        X_val_prep = selector.transform(imputer.transform(scaler.transform(X_val_split)))\n",
        "\n",
        "        model = xgb.XGBRegressor(\n",
        "            objective='reg:squarederror',\n",
        "            n_estimators=n_estimators,\n",
        "            learning_rate=learning_rate,\n",
        "            max_depth=max_depth,\n",
        "            subsample=subsample,\n",
        "            colsample_bytree=colsample_bytree,\n",
        "            random_state=42\n",
        "        )\n",
        "\n",
        "        model.fit(X_tr_prep, y_tr)\n",
        "        preds = model.predict(X_val_prep)\n",
        "        mae_scores.append(mean_absolute_error(y_val_split, preds))\n",
        "\n",
        "    return np.mean(mae_scores)"
      ],
      "metadata": {
        "id": "SglNYDQ5cb7o"
      },
      "execution_count": 13,
      "outputs": []
    },
    {
      "cell_type": "markdown",
      "source": [
        "#TRAINING IN OPTIMAL HYPERPARAMETER SPACE"
      ],
      "metadata": {
        "id": "S0M898bzdXMq"
      }
    },
    {
      "cell_type": "code",
      "source": [
        "best_params = {'n_estimators': 776, 'learning_rate': 0.010590433420511285, 'max_depth': 6, 'subsample': 0.666852461341688, 'colsample_bytree': 0.8724127328229327}\n",
        "\n",
        "final_xgb = xgb.XGBRegressor(\n",
        "    objective='reg:squarederror',\n",
        "    n_estimators=best_params['n_estimators'],\n",
        "    learning_rate=best_params['learning_rate'],\n",
        "    max_depth=best_params['max_depth'],\n",
        "    subsample=best_params['subsample'],\n",
        "    colsample_bytree=best_params['colsample_bytree'],\n",
        "    random_state=42\n",
        ")\n",
        "\n",
        "final_xgb.fit(X_train_sel, y_train_log)\n",
        "\n",
        "pred_train_log = final_xgb.predict(X_train_sel)\n",
        "pred_val_log = final_xgb.predict(X_val_sel)\n",
        "pred_test_log = final_xgb.predict(X_test_sel)\n",
        "\n",
        "pred_train_raw = np.expm1(pred_train_log)\n",
        "pred_val_raw = np.expm1(pred_val_log)\n",
        "pred_test_raw = np.expm1(pred_test_log)\n",
        "\n",
        "def evaluate(y_true_log, y_pred_log, y_true_raw, y_pred_raw):\n",
        "    metrics_log = {\n",
        "        'R2': r2_score(y_true_log, y_pred_log),\n",
        "        'MAE': mean_absolute_error(y_true_log, y_pred_log),\n",
        "        'RMSE': np.sqrt(mean_squared_error(y_true_log, y_pred_log))\n",
        "    }\n",
        "    metrics_raw = {\n",
        "        'R2': r2_score(y_true_raw, y_pred_raw),\n",
        "        'MAE': mean_absolute_error(y_true_raw, y_pred_raw),\n",
        "        'RMSE': np.sqrt(mean_squared_error(y_true_raw, y_pred_raw))\n",
        "    }\n",
        "    return metrics_log, metrics_raw\n",
        "\n",
        "metrics_train_log, metrics_train_raw = evaluate(y_train_log, pred_train_log, y_train_raw, pred_train_raw)\n",
        "metrics_val_log, metrics_val_raw = evaluate(y_val_log, pred_val_log, y_val_raw, pred_val_raw)\n",
        "metrics_test_log, metrics_test_raw = evaluate(y_test_log, pred_test_log, y_test_raw, pred_test_raw)\n",
        "\n",
        "print(\"XGBoost Evaluation Metrics (Log Scale):\")\n",
        "print(pd.DataFrame({'Train': metrics_train_log, 'Val': metrics_val_log, 'Test': metrics_test_log}).T)\n",
        "\n",
        "print(\"\\nXGBoost Evaluation Metrics (Raw Scale):\")\n",
        "print(pd.DataFrame({'Train': metrics_train_raw, 'Val': metrics_val_raw, 'Test': metrics_test_raw}).T)\n"
      ],
      "metadata": {
        "colab": {
          "base_uri": "https://localhost:8080/"
        },
        "id": "8G-2y6G3GmMK",
        "outputId": "1beb930a-6bed-4574-b1e4-4326a7a4b452"
      },
      "execution_count": 14,
      "outputs": [
        {
          "output_type": "stream",
          "name": "stdout",
          "text": [
            "XGBoost Evaluation Metrics (Log Scale):\n",
            "             R2       MAE      RMSE\n",
            "Train  0.883789  0.406510  0.520045\n",
            "Val    0.844688  0.460052  0.594843\n",
            "Test   0.851216  0.462608  0.594265\n",
            "\n",
            "XGBoost Evaluation Metrics (Raw Scale):\n",
            "             R2        MAE        RMSE\n",
            "Train  0.807357  42.483300  114.954619\n",
            "Val    0.779588  45.705212  115.658942\n",
            "Test   0.773958  49.600511  131.553941\n"
          ]
        }
      ]
    },
    {
      "cell_type": "markdown",
      "source": [
        "# SLIGHT IMPROVEMENT FOUND"
      ],
      "metadata": {
        "id": "kQpIbKpSe97G"
      }
    }
  ]
}